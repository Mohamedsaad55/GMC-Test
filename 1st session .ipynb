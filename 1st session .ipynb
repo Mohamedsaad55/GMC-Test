{
 "cells": [
  {
   "cell_type": "markdown",
   "id": "497e7876",
   "metadata": {},
   "source": [
    "# 1st session \n",
    "### Students names \n",
    "    - Habiba \n",
    "    - Mohamed \n",
    "    - Ali "
   ]
  },
  {
   "cell_type": "code",
   "execution_count": 12,
   "id": "a6fa1e7e",
   "metadata": {},
   "outputs": [
    {
     "name": "stdout",
     "output_type": "stream",
     "text": [
      "12\n"
     ]
    }
   ],
   "source": [
    "x = 5 + 7\n",
    "print(x)"
   ]
  },
  {
   "cell_type": "code",
   "execution_count": 11,
   "id": "28346c01",
   "metadata": {},
   "outputs": [
    {
     "name": "stdout",
     "output_type": "stream",
     "text": [
      "17\n"
     ]
    }
   ],
   "source": [
    "x = 11 + 6\n",
    "print(x)"
   ]
  },
  {
   "cell_type": "code",
   "execution_count": 13,
   "id": "6a0bf8cc",
   "metadata": {},
   "outputs": [
    {
     "name": "stdout",
     "output_type": "stream",
     "text": [
      "12\n"
     ]
    }
   ],
   "source": [
    "print(x)"
   ]
  },
  {
   "cell_type": "code",
   "execution_count": null,
   "id": "f41967d2",
   "metadata": {},
   "outputs": [],
   "source": []
  },
  {
   "cell_type": "code",
   "execution_count": 9,
   "id": "1ed932b6",
   "metadata": {},
   "outputs": [],
   "source": [
    "from pygeine.pybasics import calculator , calculator_download , receipt "
   ]
  },
  {
   "cell_type": "code",
   "execution_count": 14,
   "id": "05dcfc6d",
   "metadata": {},
   "outputs": [
    {
     "name": "stdout",
     "output_type": "stream",
     "text": [
      "********** Welcome to Your First Project **********\n",
      "Iam Glad you are here , in this project we will go through your first Project. \n",
      "we gonna make a Receipt Layout using only 2 built in Functions (print,input)\n",
      "*********** let`s start CODING ***********\n",
      "So first we need to put our project into smaller steps .\n",
      " in this project we have 2 parts . \n",
      "--1st part will be the inputs we need from the user, \n",
      "--2nd Part will be printing the layout\n",
      "********************************************************************************\n",
      "***************let's start with our input function***************\n",
      "********************************************************************************\n",
      "\tThe ** input() ** function in Python is a built-in function that allows you to interact with the user and get input from them via the keyboard.\n",
      "Example : name = str(input(\"What is Your Name? \"))\n",
      "******{name} >>> the Variable name , {str} >>> for the data type we need to get in this case (String) \n",
      "******{input(\"....\")} >>> the message will appear for the user to know what is this input for..\n",
      "IMPORTANT >> the input variables i used is (name, item_name, item_price, item_quantity, tax_rate, subtotal, tax_amount, total)\n",
      "********************************************************************************\n",
      "Let's Start acting like a user and insert your inputs\n",
      "What is Your Name? Mohamed \n",
      "What is the name of the item you purchased? Books\n",
      "What was the price of the item? 500\n",
      "How many of the item did you purchase? 600\n",
      "What is the tax rate for your location (e.g., 0.05 for 5%)? 0.02\n",
      "Let's go now for the ** print() ** function \n",
      "You should know that ** print() ** have many optional arguments\n",
      "But in our case we don't need any arguments :D\n",
      "all we need is printing out the Receipt including the inputs Variables we got from the user\n",
      "Example >> print(f\"item : {item_name})\n",
      "--------Mohamed  Receipt --------\n",
      "Item: \t\tBooks\n",
      "Quantity: \t600\n",
      "Price per item: $500.00\n",
      "Subtotal: \t$300000.00\n",
      "Tax (2%): \t$6000.00\n",
      "Total: \t\t$306000.00\n",
      "---------------------------------\n",
      "Thanks For Visiting us today Mohamed  <3\n",
      "---------------------------------\n"
     ]
    }
   ],
   "source": [
    "receipt()"
   ]
  },
  {
   "cell_type": "code",
   "execution_count": 15,
   "id": "755e98be",
   "metadata": {},
   "outputs": [],
   "source": [
    "from pygeine.plot import Pgplot\n",
    "from sklearn.cluster import KMeans\n",
    "from sklearn.datasets import make_blobs\n",
    "\n",
    "X, y = make_blobs(n_samples=100, centers=3, random_state=42)\n",
    "model = KMeans(n_clusters=2)\n",
    "model.fit(X)\n",
    "visualizer = Pgplot(model)\n"
   ]
  },
  {
   "cell_type": "code",
   "execution_count": 16,
   "id": "ee940778",
   "metadata": {},
   "outputs": [
    {
     "data": {
      "application/vnd.jupyter.widget-view+json": {
       "model_id": "1b8d462e71464f9c970fdfeb6d8fb0d0",
       "version_major": 2,
       "version_minor": 0
      },
      "text/plain": [
       "interactive(children=(IntSlider(value=2, description='Number of Clusters:', max=20, min=2), ColorPicker(value=…"
      ]
     },
     "metadata": {},
     "output_type": "display_data"
    }
   ],
   "source": [
    "visualizer.kmeans_n_clusters(X)"
   ]
  },
  {
   "cell_type": "code",
   "execution_count": null,
   "id": "0a1295d8",
   "metadata": {},
   "outputs": [],
   "source": []
  }
 ],
 "metadata": {
  "kernelspec": {
   "display_name": "Python 3 (ipykernel)",
   "language": "python",
   "name": "python3"
  },
  "language_info": {
   "codemirror_mode": {
    "name": "ipython",
    "version": 3
   },
   "file_extension": ".py",
   "mimetype": "text/x-python",
   "name": "python",
   "nbconvert_exporter": "python",
   "pygments_lexer": "ipython3",
   "version": "3.9.15"
  }
 },
 "nbformat": 4,
 "nbformat_minor": 5
}
