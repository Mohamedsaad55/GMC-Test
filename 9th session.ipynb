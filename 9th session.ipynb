{
 "cells": [
  {
   "cell_type": "code",
   "execution_count": 1,
   "id": "c0c37f66",
   "metadata": {},
   "outputs": [
    {
     "name": "stdout",
     "output_type": "stream",
     "text": [
      "Requirement already satisfied: beautifulsoup4 in c:\\users\\aser\\anaconda3\\envs\\django\\lib\\site-packages (4.11.1)\n",
      "Requirement already satisfied: requests in c:\\users\\aser\\anaconda3\\envs\\django\\lib\\site-packages (2.28.1)\n",
      "Requirement already satisfied: soupsieve>1.2 in c:\\users\\aser\\anaconda3\\envs\\django\\lib\\site-packages (from beautifulsoup4) (2.3.2.post1)\n",
      "Requirement already satisfied: certifi>=2017.4.17 in c:\\users\\aser\\anaconda3\\envs\\django\\lib\\site-packages (from requests) (2022.12.7)\n",
      "Requirement already satisfied: urllib3<1.27,>=1.21.1 in c:\\users\\aser\\anaconda3\\envs\\django\\lib\\site-packages (from requests) (1.26.13)\n",
      "Requirement already satisfied: idna<4,>=2.5 in c:\\users\\aser\\anaconda3\\envs\\django\\lib\\site-packages (from requests) (3.4)\n",
      "Requirement already satisfied: charset-normalizer<3,>=2 in c:\\users\\aser\\anaconda3\\envs\\django\\lib\\site-packages (from requests) (2.1.1)\n"
     ]
    }
   ],
   "source": [
    "!pip install beautifulsoup4 requests "
   ]
  },
  {
   "cell_type": "code",
   "execution_count": 2,
   "id": "e804cb87",
   "metadata": {},
   "outputs": [],
   "source": [
    "# importing packages \n",
    "import requests\n",
    "from bs4 import BeautifulSoup \n",
    "import csv "
   ]
  },
  {
   "cell_type": "code",
   "execution_count": 3,
   "id": "be8077be",
   "metadata": {},
   "outputs": [],
   "source": [
    "link = \"https://en.wikipedia.org/wiki/Python_(programming_language)\"\n",
    "page = requests.get(link)\n",
    "src = page.content"
   ]
  },
  {
   "cell_type": "code",
   "execution_count": 4,
   "id": "ee1b878f",
   "metadata": {},
   "outputs": [],
   "source": [
    "soup = BeautifulSoup(src ,\"lxml\")"
   ]
  },
  {
   "cell_type": "code",
   "execution_count": 5,
   "id": "d8ea714b",
   "metadata": {},
   "outputs": [],
   "source": [
    "title = soup.find(\"span\",{\"class\":\"mw-page-title-main\"}).text"
   ]
  },
  {
   "cell_type": "code",
   "execution_count": 6,
   "id": "0fa574f6",
   "metadata": {},
   "outputs": [
    {
     "data": {
      "text/plain": [
       "'Python (programming language)'"
      ]
     },
     "execution_count": 6,
     "metadata": {},
     "output_type": "execute_result"
    }
   ],
   "source": [
    "title"
   ]
  },
  {
   "cell_type": "code",
   "execution_count": 7,
   "id": "ec940ad6",
   "metadata": {},
   "outputs": [],
   "source": [
    "img = soup.find(\"img\",{\"alt\":\"Python-logo-notext.svg\"})"
   ]
  },
  {
   "cell_type": "code",
   "execution_count": 8,
   "id": "a9267ea5",
   "metadata": {},
   "outputs": [
    {
     "data": {
      "text/plain": [
       "<img alt=\"Python-logo-notext.svg\" data-file-height=\"126\" data-file-width=\"115\" decoding=\"async\" height=\"133\" src=\"//upload.wikimedia.org/wikipedia/commons/thumb/c/c3/Python-logo-notext.svg/121px-Python-logo-notext.svg.png\" srcset=\"//upload.wikimedia.org/wikipedia/commons/thumb/c/c3/Python-logo-notext.svg/182px-Python-logo-notext.svg.png 1.5x, //upload.wikimedia.org/wikipedia/commons/thumb/c/c3/Python-logo-notext.svg/242px-Python-logo-notext.svg.png 2x\" width=\"121\"/>"
      ]
     },
     "execution_count": 8,
     "metadata": {},
     "output_type": "execute_result"
    }
   ],
   "source": [
    "img"
   ]
  },
  {
   "cell_type": "code",
   "execution_count": null,
   "id": "7705b196",
   "metadata": {},
   "outputs": [],
   "source": []
  },
  {
   "cell_type": "code",
   "execution_count": null,
   "id": "1e7c5598",
   "metadata": {},
   "outputs": [],
   "source": []
  },
  {
   "cell_type": "code",
   "execution_count": 9,
   "id": "458abaaa",
   "metadata": {},
   "outputs": [],
   "source": [
    "link =\" https://wuzzuf.net/search/jobs/?q=technical+office+engineer&a=hpb\"\n",
    "page = requests.get(link)\n",
    "src = page.content\n",
    "soup = BeautifulSoup(src,\"lxml\")"
   ]
  },
  {
   "cell_type": "code",
   "execution_count": 10,
   "id": "2861f06c",
   "metadata": {},
   "outputs": [
    {
     "ename": "SyntaxError",
     "evalue": "invalid syntax (1383519881.py, line 1)",
     "output_type": "error",
     "traceback": [
      "\u001b[1;36m  Cell \u001b[1;32mIn[10], line 1\u001b[1;36m\u001b[0m\n\u001b[1;33m    job_t = soup.find_all(\"h2\" ,{class\"css-m604qf\"})\u001b[0m\n\u001b[1;37m                                 ^\u001b[0m\n\u001b[1;31mSyntaxError\u001b[0m\u001b[1;31m:\u001b[0m invalid syntax\n"
     ]
    }
   ],
   "source": []
  },
  {
   "cell_type": "code",
   "execution_count": 11,
   "id": "2e59c932",
   "metadata": {},
   "outputs": [],
   "source": [
    "job_t = soup.find_all(\"h2\" ,{\"class\":\"css-m604qf\"})\n",
    "company_n = soup.find_all(\"a\",{\"class\":\"css-17s97q8\"})\n",
    "location = soup.find_all(\"span\",{\"class\":\"css-5wys0k\"})\n",
    "job_type = soup.find_all(\"span\",{\"class\":\"css-1ve4b75 eoyjyou0\"})\n",
    "req = soup.find_all(\"div\",{\"class\":\"css-y4udm8\"})\n",
    "time =soup.find_all(\"div\",{\"class\":\"css-do6t5g\"})\n"
   ]
  },
  {
   "cell_type": "code",
   "execution_count": 12,
   "id": "f5333370",
   "metadata": {},
   "outputs": [],
   "source": [
    "job_title = []\n",
    "\n",
    "for i in range(len(job_t)):\n",
    "    job_title.append(job_t[i].text)"
   ]
  },
  {
   "cell_type": "code",
   "execution_count": 16,
   "id": "45041537",
   "metadata": {
    "scrolled": true
   },
   "outputs": [],
   "source": [
    "company = [company_n[i].text for i in range(len(company_n))]\n",
    "locationf=[location[i].text for i in range(len(location))]\n",
    "job_titlef=[job_type[i].text for i in range(len(job_type))]\n",
    "reqs=[req[i].text for i in range(len(req))]\n",
    "timef=[time[i].text for i in range(len(time))]\n",
    "links = [\"https://wuzzuf.net\" + (job_t[i].find(\"a\").attrs[\"href\"]) for i in range(len(job_t))]"
   ]
  },
  {
   "cell_type": "code",
   "execution_count": 22,
   "id": "4fe0cf27",
   "metadata": {},
   "outputs": [],
   "source": [
    "total_jobs = int(soup.find(\"strong\").text)"
   ]
  },
  {
   "cell_type": "code",
   "execution_count": 23,
   "id": "27849614",
   "metadata": {},
   "outputs": [
    {
     "data": {
      "text/plain": [
       "356"
      ]
     },
     "execution_count": 23,
     "metadata": {},
     "output_type": "execute_result"
    }
   ],
   "source": [
    "total_jobs"
   ]
  },
  {
   "cell_type": "code",
   "execution_count": 37,
   "id": "f4c2ce74",
   "metadata": {},
   "outputs": [
    {
     "name": "stdout",
     "output_type": "stream",
     "text": [
      "[([1, 2, 3],), (['a', 'b', 'c'],)]\n"
     ]
    }
   ],
   "source": []
  },
  {
   "cell_type": "code",
   "execution_count": 49,
   "id": "d11f5467",
   "metadata": {},
   "outputs": [
    {
     "name": "stdout",
     "output_type": "stream",
     "text": [
      "Loading Page Number : 1\n",
      "\t\t\t Saved!! \n",
      "Loading Page Number : 2\n",
      "\t\t\t Saved!! \n",
      "Loading Page Number : 3\n",
      "\t\t\t Saved!! \n",
      "Loading Page Number : 4\n",
      "\t\t\t Saved!! \n",
      "Loading Page Number : 5\n",
      "\t\t\t Saved!! \n",
      "Loading Page Number : 6\n",
      "\t\t\t Saved!! \n",
      "Loading Page Number : 7\n",
      "\t\t\t Saved!! \n",
      "Loading Page Number : 8\n",
      "\t\t\t Saved!! \n",
      "Loading Page Number : 9\n",
      "\t\t\t Saved!! \n",
      "Loading Page Number : 10\n",
      "\t\t\t Saved!! \n",
      "Loading Page Number : 11\n",
      "\t\t\t Saved!! \n",
      "Loading Page Number : 12\n",
      "\t\t\t Saved!! \n",
      "Loading Page Number : 13\n",
      "\t\t\t Saved!! \n",
      "Loading Page Number : 14\n",
      "\t\t\t Saved!! \n",
      "Loading Page Number : 15\n",
      "\t\t\t Saved!! \n",
      "Loading Page Number : 16\n",
      "\t\t\t Saved!! \n",
      "Loading Page Number : 17\n",
      "\t\t\t Saved!! \n",
      "Loading Page Number : 18\n",
      "\t\t\t Saved!! \n",
      "Loading Page Number : 19\n",
      "\t\t\t Saved!! \n",
      "Loading Page Number : 20\n",
      "\t\t\t Saved!! \n",
      "Loading Page Number : 21\n",
      "\t\t\t Saved!! \n",
      "Loading Page Number : 22\n",
      "\t\t\t Saved!! \n",
      "Loading Page Number : 23\n",
      "\t\t\t Saved!! \n",
      "Loading Page Number : 24\n",
      "\t\t\t Saved!! \n",
      "shtbna\n"
     ]
    }
   ],
   "source": [
    "from itertools import zip_longest\n",
    "\n",
    "try:\n",
    "   \n",
    "    with open(\"Wzzuf_jobs.csv\",\"w\",encoding=\"UTF8\",newline='') as f :\n",
    "        wr= csv.writer(f)\n",
    "        wr.writerow([\"Job Title\",\"Company Name\" , \"Location\" , \"job Type\",\"Req\" , \"Link\",\"time\" ])\n",
    "        page_num=0\n",
    "        job_title = []\n",
    "        while True :\n",
    "\n",
    "            ftkat = f\"https://wuzzuf.net/search/jobs/?a=hpb&q=technical%20office%20engineer&start={page_num}\"\n",
    "            result = requests.get(ftkat)\n",
    "            src = result.content\n",
    "            soup = BeautifulSoup(src ,\"lxml\")\n",
    "            job_t = soup.find_all(\"h2\" ,{\"class\":\"css-m604qf\"})\n",
    "            company_n = soup.find_all(\"a\",{\"class\":\"css-17s97q8\"})\n",
    "            location = soup.find_all(\"span\",{\"class\":\"css-5wys0k\"})\n",
    "            job_type = soup.find_all(\"span\",{\"class\":\"css-1ve4b75 eoyjyou0\"})\n",
    "            req = soup.find_all(\"div\",{\"class\":\"css-y4udm8\"})\n",
    "            time =soup.find_all(\"div\",{\"class\":\"css-do6t5g\"})\n",
    "            company = [company_n[i].text for i in range(len(company_n))]\n",
    "            locationf=[location[i].text for i in range(len(location))]\n",
    "            job_type=[job_type[i].text for i in range(len(job_type))]\n",
    "            reqs=[req[i].text for i in range(len(req))]\n",
    "            timef=[time[i].text for i in range(len(time))]\n",
    "            for i in range(len(job_t)):\n",
    "                job_title.append(job_t[i].text)\n",
    "            links = [\"https://wuzzuf.net\" + (job_t[i].find(\"a\").attrs[\"href\"]) for i in range(len(job_t))]\n",
    "            files = [job_title,company,locationf,job_type,reqs,links,timef]\n",
    "            exp= zip_longest(*files)\n",
    "            wr.writerows(exp)\n",
    "            page_num +=1\n",
    "            print(f\"Loading Page Number : {page_num}\")\n",
    "            print(\"\\t\\t\\t Saved!! \")\n",
    "            if(page_num > total_jobs // 15):\n",
    "                print(\"shtbna\")\n",
    "                break \n",
    "except Exception as e :\n",
    "    raise StopIteration(\"Error : lef werga3 tany \",e)"
   ]
  },
  {
   "cell_type": "code",
   "execution_count": 25,
   "id": "68802b0a",
   "metadata": {},
   "outputs": [
    {
     "ename": "SyntaxError",
     "evalue": "'function call' is an illegal expression for augmented assignment (987920867.py, line 2)",
     "output_type": "error",
     "traceback": [
      "\u001b[1;36m  Cell \u001b[1;32mIn[25], line 2\u001b[1;36m\u001b[0m\n\u001b[1;33m    int(ftkat[-1]) +=1\u001b[0m\n\u001b[1;37m    ^\u001b[0m\n\u001b[1;31mSyntaxError\u001b[0m\u001b[1;31m:\u001b[0m 'function call' is an illegal expression for augmented assignment\n"
     ]
    }
   ],
   "source": [
    "ftkat = \"https://wuzzuf.net/search/jobs/?a=hpb&q=technical%20office%20engineer&start=0\"\n",
    "int(ftkat[-1]) +=1"
   ]
  },
  {
   "cell_type": "code",
   "execution_count": 72,
   "id": "47dd08b6",
   "metadata": {},
   "outputs": [],
   "source": [
    "import os \n",
    "f = open(\"txt.txt\",\"w\") \n",
    "f.write(\"Hello\")\n",
    "f.close()"
   ]
  },
  {
   "cell_type": "code",
   "execution_count": 74,
   "id": "bf42c6b0",
   "metadata": {},
   "outputs": [],
   "source": [
    "os.remove(\"txt.txt\")"
   ]
  },
  {
   "cell_type": "code",
   "execution_count": null,
   "id": "977335d7",
   "metadata": {},
   "outputs": [],
   "source": [
    " encoding = 'utf-8'"
   ]
  },
  {
   "cell_type": "code",
   "execution_count": null,
   "id": "6a828508",
   "metadata": {},
   "outputs": [],
   "source": []
  },
  {
   "cell_type": "code",
   "execution_count": 63,
   "id": "00d75998",
   "metadata": {},
   "outputs": [],
   "source": []
  },
  {
   "cell_type": "code",
   "execution_count": 68,
   "id": "ddc6c0f5",
   "metadata": {},
   "outputs": [],
   "source": []
  },
  {
   "cell_type": "code",
   "execution_count": null,
   "id": "46586197",
   "metadata": {},
   "outputs": [],
   "source": []
  }
 ],
 "metadata": {
  "kernelspec": {
   "display_name": "Python 3 (ipykernel)",
   "language": "python",
   "name": "python3"
  },
  "language_info": {
   "codemirror_mode": {
    "name": "ipython",
    "version": 3
   },
   "file_extension": ".py",
   "mimetype": "text/x-python",
   "name": "python",
   "nbconvert_exporter": "python",
   "pygments_lexer": "ipython3",
   "version": "3.9.15"
  }
 },
 "nbformat": 4,
 "nbformat_minor": 5
}
