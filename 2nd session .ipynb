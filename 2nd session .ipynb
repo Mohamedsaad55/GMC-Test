{
 "cells": [
  {
   "cell_type": "code",
   "execution_count": 99,
   "id": "d2340818",
   "metadata": {},
   "outputs": [],
   "source": [
    "# Git Hub \n",
    "# \n"
   ]
  },
  {
   "cell_type": "code",
   "execution_count": 21,
   "id": "bde23091",
   "metadata": {},
   "outputs": [],
   "source": [
    "numbers = range( 1,10,2)"
   ]
  },
  {
   "cell_type": "code",
   "execution_count": 24,
   "id": "1b966da7",
   "metadata": {},
   "outputs": [
    {
     "name": "stdout",
     "output_type": "stream",
     "text": [
      "2\n",
      "4\n",
      "6\n",
      "8\n",
      "10\n"
     ]
    }
   ],
   "source": [
    "for number in numbers:\n",
    "    number = number +1\n",
    "    print(number)"
   ]
  },
  {
   "cell_type": "code",
   "execution_count": 75,
   "id": "c81321ba",
   "metadata": {},
   "outputs": [],
   "source": [
    "x = 5.52132165464"
   ]
  },
  {
   "cell_type": "code",
   "execution_count": 74,
   "id": "e4fa820e",
   "metadata": {},
   "outputs": [
    {
     "data": {
      "text/plain": [
       "'True'"
      ]
     },
     "execution_count": 74,
     "metadata": {},
     "output_type": "execute_result"
    }
   ],
   "source": [
    "str(x)"
   ]
  },
  {
   "cell_type": "code",
   "execution_count": 34,
   "id": "8529036c",
   "metadata": {},
   "outputs": [],
   "source": [
    "True , False"
   ]
  },
  {
   "cell_type": "code",
   "execution_count": 98,
   "id": "0893bd4a",
   "metadata": {},
   "outputs": [],
   "source": [
    " #integar \n",
    "# float \n",
    "# string \n",
    "# Boolean "
   ]
  },
  {
   "cell_type": "code",
   "execution_count": 110,
   "id": "f1fcfe56",
   "metadata": {},
   "outputs": [
    {
     "name": "stdout",
     "output_type": "stream",
     "text": [
      "Please Enter Your Age : 20\n"
     ]
    }
   ],
   "source": [
    "age = int(input(\"Please Enter Your Age : \"))"
   ]
  },
  {
   "cell_type": "code",
   "execution_count": 113,
   "id": "bacaef13",
   "metadata": {},
   "outputs": [
    {
     "name": "stdout",
     "output_type": "stream",
     "text": [
      "Name : yousef\n"
     ]
    }
   ],
   "source": [
    "name = input(\"Name : \")"
   ]
  },
  {
   "cell_type": "code",
   "execution_count": 118,
   "id": "d408717f",
   "metadata": {},
   "outputs": [
    {
     "name": "stdout",
     "output_type": "stream",
     "text": [
      "Hello yousef , i know that you were born at -2003\n"
     ]
    }
   ],
   "source": [
    "print(f\"Hello {name} , i know that you were born at {age - 2023}\")"
   ]
  },
  {
   "cell_type": "code",
   "execution_count": 88,
   "id": "926f052e",
   "metadata": {},
   "outputs": [
    {
     "name": "stdout",
     "output_type": "stream",
     "text": [
      " \t\t\t\t\t\t\tPython, \n",
      "the input function is used to ask the user to enter the input by keyword.\n",
      "It reads the key strokes as a string object which can be referred to by a variable with a semantic name.\n",
      "\n",
      "x=input()\n",
      "Note that the blinking cursor waits for the user's input.\n",
      " The user enters his input and then hits Enter.\n",
      " This will be captured as a string.\n"
     ]
    }
   ],
   "source": [
    "print(\"\"\" \\t\\t\\t\\t\\t\\t\\tPython, \\nthe input function is used to ask the user to enter the input by keyword.\\nIt reads the key strokes as a string object which can be referred to by a variable with a semantic name.\\n\n",
    "x=input()\\nNote that the blinking cursor waits for the user's input.\\n The user enters his input and then hits Enter.\\n This will be captured as a string.\"\"\")"
   ]
  },
  {
   "cell_type": "code",
   "execution_count": 120,
   "id": "8f50796b",
   "metadata": {},
   "outputs": [
    {
     "name": "stdout",
     "output_type": "stream",
     "text": [
      "What is Your Name? Mohamed\n",
      "What is the name of the item you purchased? Books\n",
      "What was the price of the item? 20\n",
      "How many of the item did you purchase? 5\n",
      "What is the tax rate for your location (e.g., 0.05 for 5%)? 0.05\n"
     ]
    }
   ],
   "source": [
    "# User inputs \n",
    "name = str(input(\"What is Your Name? \")).title()\n",
    "item_name = input(\"What is the name of the item you purchased? \")\n",
    "item_price = float(input(\"What was the price of the item? \"))\n",
    "item_quantity = int(input(\"How many of the item did you purchase? \"))\n",
    "tax_rate = float(input(\"What is the tax rate for your location (e.g., 0.05 for 5%)? \"))"
   ]
  },
  {
   "cell_type": "code",
   "execution_count": 121,
   "id": "6735bd3b",
   "metadata": {},
   "outputs": [],
   "source": [
    "#Calculating total \n",
    "sub_total = item_price * item_quantity\n",
    "tax = tax_rate * sub_total\n",
    "total_amount = sub_total +tax"
   ]
  },
  {
   "cell_type": "code",
   "execution_count": 109,
   "id": "e49646ee",
   "metadata": {},
   "outputs": [],
   "source": [
    "# printing to user "
   ]
  },
  {
   "cell_type": "code",
   "execution_count": null,
   "id": "eb3d6277",
   "metadata": {},
   "outputs": [],
   "source": []
  },
  {
   "cell_type": "code",
   "execution_count": 164,
   "id": "5005d15f",
   "metadata": {},
   "outputs": [
    {
     "name": "stdout",
     "output_type": "stream",
     "text": [
      "*********************Mohamed Receipt*********************\n",
      "You Purchased\t\t\tBooks \n",
      "You Purchased\t\t\t5 Books\n",
      "Item Price\t\t\t20.00$\n",
      "Sub Total :\t\t\t100.0\n",
      "VAT:\t\t\t\t5%\n",
      "----------------------------------------------------------\n",
      "Total :\t\t\t\t105.0\n",
      "********************Thanks for Visiting Us********************\n"
     ]
    }
   ],
   "source": [
    "print(\"*\"*20 + f\"*{name} Receipt*\" + \"*\"*20)\n",
    "print(f\"You Purchased\\t\\t\\t{item_name} \")\n",
    "print(f\"You Purchased\\t\\t\\t{item_quantity}\"+f\" {item_name}\")\n",
    "print(f\"Item Price\\t\\t\\t{item_price:.2f}$\")\n",
    "print(f\"Sub Total :\\t\\t\\t{sub_total}\")\n",
    "print(f\"VAT:\\t\\t\\t\\t{tax_rate:.0%}\")\n",
    "print(\"-\"*58)\n",
    "print(f\"Total :\\t\\t\\t\\t{total_amount}\")\n",
    "print(\"*\"*20 + \"Thanks for Visiting Us\" +\"*\"*20 )\n"
   ]
  },
  {
   "cell_type": "code",
   "execution_count": 173,
   "id": "bb713e6b",
   "metadata": {},
   "outputs": [],
   "source": [
    "x = 10"
   ]
  },
  {
   "cell_type": "code",
   "execution_count": 186,
   "id": "569dea5d",
   "metadata": {},
   "outputs": [],
   "source": [
    "x *= 5\n",
    "x = x *5 "
   ]
  },
  {
   "cell_type": "code",
   "execution_count": 187,
   "id": "708b6a96",
   "metadata": {},
   "outputs": [
    {
     "name": "stdout",
     "output_type": "stream",
     "text": [
      "70.0\n"
     ]
    }
   ],
   "source": [
    "print(x)"
   ]
  },
  {
   "cell_type": "code",
   "execution_count": 230,
   "id": "16cb74dc",
   "metadata": {},
   "outputs": [],
   "source": [
    "a = 1 \n",
    "b = 1.5 \n",
    "c = \"mohamed\"\n",
    "d = True"
   ]
  },
  {
   "cell_type": "code",
   "execution_count": 232,
   "id": "1275144e",
   "metadata": {},
   "outputs": [
    {
     "data": {
      "text/plain": [
       "['m', 'o', 'h', 'a', 'm', 'e', 'd']"
      ]
     },
     "execution_count": 232,
     "metadata": {},
     "output_type": "execute_result"
    }
   ],
   "source": [
    "list(c)"
   ]
  },
  {
   "cell_type": "code",
   "execution_count": 242,
   "id": "14c5e6db",
   "metadata": {},
   "outputs": [
    {
     "data": {
      "text/plain": [
       "'mohamed'"
      ]
     },
     "execution_count": 242,
     "metadata": {},
     "output_type": "execute_result"
    }
   ],
   "source": [
    "c[0:100]"
   ]
  },
  {
   "cell_type": "code",
   "execution_count": 191,
   "id": "dc3f13fa",
   "metadata": {},
   "outputs": [
    {
     "data": {
      "text/plain": [
       "1"
      ]
     },
     "execution_count": 191,
     "metadata": {},
     "output_type": "execute_result"
    }
   ],
   "source": [
    "int(b)"
   ]
  },
  {
   "cell_type": "code",
   "execution_count": 215,
   "id": "38c647e6",
   "metadata": {},
   "outputs": [
    {
     "data": {
      "text/plain": [
       "True"
      ]
     },
     "execution_count": 215,
     "metadata": {},
     "output_type": "execute_result"
    }
   ],
   "source": [
    "c =bool(c)\n",
    "c"
   ]
  },
  {
   "cell_type": "code",
   "execution_count": 193,
   "id": "bc5b2df3",
   "metadata": {},
   "outputs": [
    {
     "data": {
      "text/plain": [
       "1.0"
      ]
     },
     "execution_count": 193,
     "metadata": {},
     "output_type": "execute_result"
    }
   ],
   "source": [
    "float(c)"
   ]
  },
  {
   "cell_type": "code",
   "execution_count": 251,
   "id": "cbd0438f",
   "metadata": {},
   "outputs": [
    {
     "name": "stdout",
     "output_type": "stream",
     "text": [
      "Enter Your Name : Mohamed saad\n"
     ]
    }
   ],
   "source": [
    "user_name = input(\"Enter Your Name : \").title()"
   ]
  },
  {
   "cell_type": "code",
   "execution_count": 255,
   "id": "973a7565",
   "metadata": {},
   "outputs": [
    {
     "name": "stdout",
     "output_type": "stream",
     "text": [
      "Help on class str in module builtins:\n",
      "\n",
      "class str(object)\n",
      " |  str(object='') -> str\n",
      " |  str(bytes_or_buffer[, encoding[, errors]]) -> str\n",
      " |  \n",
      " |  Create a new string object from the given object. If encoding or\n",
      " |  errors is specified, then the object must expose a data buffer\n",
      " |  that will be decoded using the given encoding and error handler.\n",
      " |  Otherwise, returns the result of object.__str__() (if defined)\n",
      " |  or repr(object).\n",
      " |  encoding defaults to sys.getdefaultencoding().\n",
      " |  errors defaults to 'strict'.\n",
      " |  \n",
      " |  Methods defined here:\n",
      " |  \n",
      " |  __add__(self, value, /)\n",
      " |      Return self+value.\n",
      " |  \n",
      " |  __contains__(self, key, /)\n",
      " |      Return key in self.\n",
      " |  \n",
      " |  __eq__(self, value, /)\n",
      " |      Return self==value.\n",
      " |  \n",
      " |  __format__(self, format_spec, /)\n",
      " |      Return a formatted version of the string as described by format_spec.\n",
      " |  \n",
      " |  __ge__(self, value, /)\n",
      " |      Return self>=value.\n",
      " |  \n",
      " |  __getattribute__(self, name, /)\n",
      " |      Return getattr(self, name).\n",
      " |  \n",
      " |  __getitem__(self, key, /)\n",
      " |      Return self[key].\n",
      " |  \n",
      " |  __getnewargs__(...)\n",
      " |  \n",
      " |  __gt__(self, value, /)\n",
      " |      Return self>value.\n",
      " |  \n",
      " |  __hash__(self, /)\n",
      " |      Return hash(self).\n",
      " |  \n",
      " |  __iter__(self, /)\n",
      " |      Implement iter(self).\n",
      " |  \n",
      " |  __le__(self, value, /)\n",
      " |      Return self<=value.\n",
      " |  \n",
      " |  __len__(self, /)\n",
      " |      Return len(self).\n",
      " |  \n",
      " |  __lt__(self, value, /)\n",
      " |      Return self<value.\n",
      " |  \n",
      " |  __mod__(self, value, /)\n",
      " |      Return self%value.\n",
      " |  \n",
      " |  __mul__(self, value, /)\n",
      " |      Return self*value.\n",
      " |  \n",
      " |  __ne__(self, value, /)\n",
      " |      Return self!=value.\n",
      " |  \n",
      " |  __repr__(self, /)\n",
      " |      Return repr(self).\n",
      " |  \n",
      " |  __rmod__(self, value, /)\n",
      " |      Return value%self.\n",
      " |  \n",
      " |  __rmul__(self, value, /)\n",
      " |      Return value*self.\n",
      " |  \n",
      " |  __sizeof__(self, /)\n",
      " |      Return the size of the string in memory, in bytes.\n",
      " |  \n",
      " |  __str__(self, /)\n",
      " |      Return str(self).\n",
      " |  \n",
      " |  capitalize(self, /)\n",
      " |      Return a capitalized version of the string.\n",
      " |      \n",
      " |      More specifically, make the first character have upper case and the rest lower\n",
      " |      case.\n",
      " |  \n",
      " |  casefold(self, /)\n",
      " |      Return a version of the string suitable for caseless comparisons.\n",
      " |  \n",
      " |  center(self, width, fillchar=' ', /)\n",
      " |      Return a centered string of length width.\n",
      " |      \n",
      " |      Padding is done using the specified fill character (default is a space).\n",
      " |  \n",
      " |  count(...)\n",
      " |      S.count(sub[, start[, end]]) -> int\n",
      " |      \n",
      " |      Return the number of non-overlapping occurrences of substring sub in\n",
      " |      string S[start:end].  Optional arguments start and end are\n",
      " |      interpreted as in slice notation.\n",
      " |  \n",
      " |  encode(self, /, encoding='utf-8', errors='strict')\n",
      " |      Encode the string using the codec registered for encoding.\n",
      " |      \n",
      " |      encoding\n",
      " |        The encoding in which to encode the string.\n",
      " |      errors\n",
      " |        The error handling scheme to use for encoding errors.\n",
      " |        The default is 'strict' meaning that encoding errors raise a\n",
      " |        UnicodeEncodeError.  Other possible values are 'ignore', 'replace' and\n",
      " |        'xmlcharrefreplace' as well as any other name registered with\n",
      " |        codecs.register_error that can handle UnicodeEncodeErrors.\n",
      " |  \n",
      " |  endswith(...)\n",
      " |      S.endswith(suffix[, start[, end]]) -> bool\n",
      " |      \n",
      " |      Return True if S ends with the specified suffix, False otherwise.\n",
      " |      With optional start, test S beginning at that position.\n",
      " |      With optional end, stop comparing S at that position.\n",
      " |      suffix can also be a tuple of strings to try.\n",
      " |  \n",
      " |  expandtabs(self, /, tabsize=8)\n",
      " |      Return a copy where all tab characters are expanded using spaces.\n",
      " |      \n",
      " |      If tabsize is not given, a tab size of 8 characters is assumed.\n",
      " |  \n",
      " |  find(...)\n",
      " |      S.find(sub[, start[, end]]) -> int\n",
      " |      \n",
      " |      Return the lowest index in S where substring sub is found,\n",
      " |      such that sub is contained within S[start:end].  Optional\n",
      " |      arguments start and end are interpreted as in slice notation.\n",
      " |      \n",
      " |      Return -1 on failure.\n",
      " |  \n",
      " |  format(...)\n",
      " |      S.format(*args, **kwargs) -> str\n",
      " |      \n",
      " |      Return a formatted version of S, using substitutions from args and kwargs.\n",
      " |      The substitutions are identified by braces ('{' and '}').\n",
      " |  \n",
      " |  format_map(...)\n",
      " |      S.format_map(mapping) -> str\n",
      " |      \n",
      " |      Return a formatted version of S, using substitutions from mapping.\n",
      " |      The substitutions are identified by braces ('{' and '}').\n",
      " |  \n",
      " |  index(...)\n",
      " |      S.index(sub[, start[, end]]) -> int\n",
      " |      \n",
      " |      Return the lowest index in S where substring sub is found,\n",
      " |      such that sub is contained within S[start:end].  Optional\n",
      " |      arguments start and end are interpreted as in slice notation.\n",
      " |      \n",
      " |      Raises ValueError when the substring is not found.\n",
      " |  \n",
      " |  isalnum(self, /)\n",
      " |      Return True if the string is an alpha-numeric string, False otherwise.\n",
      " |      \n",
      " |      A string is alpha-numeric if all characters in the string are alpha-numeric and\n",
      " |      there is at least one character in the string.\n",
      " |  \n",
      " |  isalpha(self, /)\n",
      " |      Return True if the string is an alphabetic string, False otherwise.\n",
      " |      \n",
      " |      A string is alphabetic if all characters in the string are alphabetic and there\n",
      " |      is at least one character in the string.\n",
      " |  \n",
      " |  isascii(self, /)\n",
      " |      Return True if all characters in the string are ASCII, False otherwise.\n",
      " |      \n",
      " |      ASCII characters have code points in the range U+0000-U+007F.\n",
      " |      Empty string is ASCII too.\n",
      " |  \n",
      " |  isdecimal(self, /)\n",
      " |      Return True if the string is a decimal string, False otherwise.\n",
      " |      \n",
      " |      A string is a decimal string if all characters in the string are decimal and\n",
      " |      there is at least one character in the string.\n",
      " |  \n",
      " |  isdigit(self, /)\n",
      " |      Return True if the string is a digit string, False otherwise.\n",
      " |      \n",
      " |      A string is a digit string if all characters in the string are digits and there\n",
      " |      is at least one character in the string.\n",
      " |  \n",
      " |  isidentifier(self, /)\n",
      " |      Return True if the string is a valid Python identifier, False otherwise.\n",
      " |      \n",
      " |      Call keyword.iskeyword(s) to test whether string s is a reserved identifier,\n",
      " |      such as \"def\" or \"class\".\n",
      " |  \n",
      " |  islower(self, /)\n",
      " |      Return True if the string is a lowercase string, False otherwise.\n",
      " |      \n",
      " |      A string is lowercase if all cased characters in the string are lowercase and\n",
      " |      there is at least one cased character in the string.\n",
      " |  \n",
      " |  isnumeric(self, /)\n",
      " |      Return True if the string is a numeric string, False otherwise.\n",
      " |      \n",
      " |      A string is numeric if all characters in the string are numeric and there is at\n",
      " |      least one character in the string.\n",
      " |  \n",
      " |  isprintable(self, /)\n",
      " |      Return True if the string is printable, False otherwise.\n",
      " |      \n",
      " |      A string is printable if all of its characters are considered printable in\n",
      " |      repr() or if it is empty.\n",
      " |  \n",
      " |  isspace(self, /)\n",
      " |      Return True if the string is a whitespace string, False otherwise.\n",
      " |      \n",
      " |      A string is whitespace if all characters in the string are whitespace and there\n",
      " |      is at least one character in the string.\n",
      " |  \n",
      " |  istitle(self, /)\n",
      " |      Return True if the string is a title-cased string, False otherwise.\n",
      " |      \n",
      " |      In a title-cased string, upper- and title-case characters may only\n",
      " |      follow uncased characters and lowercase characters only cased ones.\n",
      " |  \n",
      " |  isupper(self, /)\n",
      " |      Return True if the string is an uppercase string, False otherwise.\n",
      " |      \n",
      " |      A string is uppercase if all cased characters in the string are uppercase and\n",
      " |      there is at least one cased character in the string.\n",
      " |  \n",
      " |  join(self, iterable, /)\n",
      " |      Concatenate any number of strings.\n",
      " |      \n",
      " |      The string whose method is called is inserted in between each given string.\n",
      " |      The result is returned as a new string.\n",
      " |      \n",
      " |      Example: '.'.join(['ab', 'pq', 'rs']) -> 'ab.pq.rs'\n",
      " |  \n",
      " |  ljust(self, width, fillchar=' ', /)\n",
      " |      Return a left-justified string of length width.\n",
      " |      \n",
      " |      Padding is done using the specified fill character (default is a space).\n",
      " |  \n",
      " |  lower(self, /)\n",
      " |      Return a copy of the string converted to lowercase.\n",
      " |  \n",
      " |  lstrip(self, chars=None, /)\n",
      " |      Return a copy of the string with leading whitespace removed.\n",
      " |      \n",
      " |      If chars is given and not None, remove characters in chars instead.\n",
      " |  \n",
      " |  partition(self, sep, /)\n",
      " |      Partition the string into three parts using the given separator.\n",
      " |      \n",
      " |      This will search for the separator in the string.  If the separator is found,\n",
      " |      returns a 3-tuple containing the part before the separator, the separator\n",
      " |      itself, and the part after it.\n",
      " |      \n",
      " |      If the separator is not found, returns a 3-tuple containing the original string\n",
      " |      and two empty strings.\n",
      " |  \n",
      " |  removeprefix(self, prefix, /)\n",
      " |      Return a str with the given prefix string removed if present.\n",
      " |      \n",
      " |      If the string starts with the prefix string, return string[len(prefix):].\n",
      " |      Otherwise, return a copy of the original string.\n",
      " |  \n",
      " |  removesuffix(self, suffix, /)\n",
      " |      Return a str with the given suffix string removed if present.\n",
      " |      \n",
      " |      If the string ends with the suffix string and that suffix is not empty,\n",
      " |      return string[:-len(suffix)]. Otherwise, return a copy of the original\n",
      " |      string.\n",
      " |  \n",
      " |  replace(self, old, new, count=-1, /)\n",
      " |      Return a copy with all occurrences of substring old replaced by new.\n",
      " |      \n",
      " |        count\n",
      " |          Maximum number of occurrences to replace.\n",
      " |          -1 (the default value) means replace all occurrences.\n",
      " |      \n",
      " |      If the optional argument count is given, only the first count occurrences are\n",
      " |      replaced.\n",
      " |  \n",
      " |  rfind(...)\n",
      " |      S.rfind(sub[, start[, end]]) -> int\n",
      " |      \n",
      " |      Return the highest index in S where substring sub is found,\n",
      " |      such that sub is contained within S[start:end].  Optional\n",
      " |      arguments start and end are interpreted as in slice notation.\n",
      " |      \n",
      " |      Return -1 on failure.\n",
      " |  \n",
      " |  rindex(...)\n",
      " |      S.rindex(sub[, start[, end]]) -> int\n",
      " |      \n",
      " |      Return the highest index in S where substring sub is found,\n",
      " |      such that sub is contained within S[start:end].  Optional\n",
      " |      arguments start and end are interpreted as in slice notation.\n",
      " |      \n",
      " |      Raises ValueError when the substring is not found.\n",
      " |  \n",
      " |  rjust(self, width, fillchar=' ', /)\n",
      " |      Return a right-justified string of length width.\n",
      " |      \n",
      " |      Padding is done using the specified fill character (default is a space).\n",
      " |  \n",
      " |  rpartition(self, sep, /)\n",
      " |      Partition the string into three parts using the given separator.\n",
      " |      \n",
      " |      This will search for the separator in the string, starting at the end. If\n",
      " |      the separator is found, returns a 3-tuple containing the part before the\n",
      " |      separator, the separator itself, and the part after it.\n",
      " |      \n",
      " |      If the separator is not found, returns a 3-tuple containing two empty strings\n",
      " |      and the original string.\n",
      " |  \n",
      " |  rsplit(self, /, sep=None, maxsplit=-1)\n",
      " |      Return a list of the words in the string, using sep as the delimiter string.\n",
      " |      \n",
      " |        sep\n",
      " |          The delimiter according which to split the string.\n",
      " |          None (the default value) means split according to any whitespace,\n",
      " |          and discard empty strings from the result.\n",
      " |        maxsplit\n",
      " |          Maximum number of splits to do.\n",
      " |          -1 (the default value) means no limit.\n",
      " |      \n",
      " |      Splits are done starting at the end of the string and working to the front.\n",
      " |  \n",
      " |  rstrip(self, chars=None, /)\n",
      " |      Return a copy of the string with trailing whitespace removed.\n",
      " |      \n",
      " |      If chars is given and not None, remove characters in chars instead.\n",
      " |  \n",
      " |  split(self, /, sep=None, maxsplit=-1)\n",
      " |      Return a list of the words in the string, using sep as the delimiter string.\n",
      " |      \n",
      " |      sep\n",
      " |        The delimiter according which to split the string.\n",
      " |        None (the default value) means split according to any whitespace,\n",
      " |        and discard empty strings from the result.\n",
      " |      maxsplit\n",
      " |        Maximum number of splits to do.\n",
      " |        -1 (the default value) means no limit.\n",
      " |  \n",
      " |  splitlines(self, /, keepends=False)\n",
      " |      Return a list of the lines in the string, breaking at line boundaries.\n",
      " |      \n",
      " |      Line breaks are not included in the resulting list unless keepends is given and\n",
      " |      true.\n",
      " |  \n",
      " |  startswith(...)\n",
      " |      S.startswith(prefix[, start[, end]]) -> bool\n",
      " |      \n",
      " |      Return True if S starts with the specified prefix, False otherwise.\n",
      " |      With optional start, test S beginning at that position.\n",
      " |      With optional end, stop comparing S at that position.\n",
      " |      prefix can also be a tuple of strings to try.\n",
      " |  \n",
      " |  strip(self, chars=None, /)\n",
      " |      Return a copy of the string with leading and trailing whitespace removed.\n",
      " |      \n",
      " |      If chars is given and not None, remove characters in chars instead.\n",
      " |  \n",
      " |  swapcase(self, /)\n",
      " |      Convert uppercase characters to lowercase and lowercase characters to uppercase.\n",
      " |  \n",
      " |  title(self, /)\n",
      " |      Return a version of the string where each word is titlecased.\n",
      " |      \n",
      " |      More specifically, words start with uppercased characters and all remaining\n",
      " |      cased characters have lower case.\n",
      " |  \n",
      " |  translate(self, table, /)\n",
      " |      Replace each character in the string using the given translation table.\n",
      " |      \n",
      " |        table\n",
      " |          Translation table, which must be a mapping of Unicode ordinals to\n",
      " |          Unicode ordinals, strings, or None.\n",
      " |      \n",
      " |      The table must implement lookup/indexing via __getitem__, for instance a\n",
      " |      dictionary or list.  If this operation raises LookupError, the character is\n",
      " |      left untouched.  Characters mapped to None are deleted.\n",
      " |  \n",
      " |  upper(self, /)\n",
      " |      Return a copy of the string converted to uppercase.\n",
      " |  \n",
      " |  zfill(self, width, /)\n",
      " |      Pad a numeric string with zeros on the left, to fill a field of the given width.\n",
      " |      \n",
      " |      The string is never truncated.\n",
      " |  \n",
      " |  ----------------------------------------------------------------------\n",
      " |  Static methods defined here:\n",
      " |  \n",
      " |  __new__(*args, **kwargs) from builtins.type\n",
      " |      Create and return a new object.  See help(type) for accurate signature.\n",
      " |  \n",
      " |  maketrans(...)\n",
      " |      Return a translation table usable for str.translate().\n",
      " |      \n",
      " |      If there is only one argument, it must be a dictionary mapping Unicode\n",
      " |      ordinals (integers) or characters to Unicode ordinals, strings or None.\n",
      " |      Character keys will be then converted to ordinals.\n",
      " |      If there are two arguments, they must be strings of equal length, and\n",
      " |      in the resulting dictionary, each character in x will be mapped to the\n",
      " |      character at the same position in y. If there is a third argument, it\n",
      " |      must be a string, whose characters will be mapped to None in the result.\n",
      "\n"
     ]
    }
   ],
   "source": []
  },
  {
   "cell_type": "code",
   "execution_count": null,
   "id": "aab1af93",
   "metadata": {},
   "outputs": [],
   "source": [
    "yES"
   ]
  },
  {
   "cell_type": "code",
   "execution_count": null,
   "id": "6eb4a9bc",
   "metadata": {},
   "outputs": [],
   "source": [
    "if sss == \"yes\":\n",
    "    "
   ]
  },
  {
   "cell_type": "code",
   "execution_count": 256,
   "id": "c07a5d92",
   "metadata": {},
   "outputs": [
    {
     "name": "stdout",
     "output_type": "stream",
     "text": [
      "Requirement already satisfied: pygeine in c:\\users\\aser\\anaconda3\\envs\\django\\lib\\site-packages (0.0.6)\n",
      "Requirement already satisfied: numpy in c:\\users\\aser\\anaconda3\\envs\\django\\lib\\site-packages (from pygeine) (1.24.1)\n",
      "Requirement already satisfied: matplotlib in c:\\users\\aser\\anaconda3\\envs\\django\\lib\\site-packages (from pygeine) (3.7.1)\n",
      "Requirement already satisfied: pandas in c:\\users\\aser\\anaconda3\\envs\\django\\lib\\site-packages (from pygeine) (2.0.1)\n",
      "Requirement already satisfied: ipywidgets in c:\\users\\aser\\anaconda3\\envs\\django\\lib\\site-packages (from pygeine) (8.0.4)\n",
      "Requirement already satisfied: seaborn in c:\\users\\aser\\anaconda3\\envs\\django\\lib\\site-packages (from pygeine) (0.12.2)\n",
      "Requirement already satisfied: ipykernel>=4.5.1 in c:\\users\\aser\\anaconda3\\envs\\django\\lib\\site-packages (from ipywidgets->pygeine) (6.15.2)\n",
      "Requirement already satisfied: ipython>=6.1.0 in c:\\users\\aser\\anaconda3\\envs\\django\\lib\\site-packages (from ipywidgets->pygeine) (8.13.2)\n",
      "Requirement already satisfied: traitlets>=4.3.1 in c:\\users\\aser\\anaconda3\\envs\\django\\lib\\site-packages (from ipywidgets->pygeine) (5.7.1)\n",
      "Requirement already satisfied: widgetsnbextension~=4.0 in c:\\users\\aser\\anaconda3\\envs\\django\\lib\\site-packages (from ipywidgets->pygeine) (4.0.5)\n",
      "Requirement already satisfied: jupyterlab-widgets~=3.0 in c:\\users\\aser\\anaconda3\\envs\\django\\lib\\site-packages (from ipywidgets->pygeine) (3.0.5)\n",
      "Requirement already satisfied: pillow>=6.2.0 in c:\\users\\aser\\anaconda3\\envs\\django\\lib\\site-packages (from matplotlib->pygeine) (9.3.0)\n",
      "Requirement already satisfied: fonttools>=4.22.0 in c:\\users\\aser\\anaconda3\\envs\\django\\lib\\site-packages (from matplotlib->pygeine) (4.38.0)\n",
      "Requirement already satisfied: packaging>=20.0 in c:\\users\\aser\\anaconda3\\envs\\django\\lib\\site-packages (from matplotlib->pygeine) (22.0)\n",
      "Requirement already satisfied: kiwisolver>=1.0.1 in c:\\users\\aser\\anaconda3\\envs\\django\\lib\\site-packages (from matplotlib->pygeine) (1.4.4)\n",
      "Requirement already satisfied: contourpy>=1.0.1 in c:\\users\\aser\\anaconda3\\envs\\django\\lib\\site-packages (from matplotlib->pygeine) (1.0.6)\n",
      "Requirement already satisfied: pyparsing>=2.3.1 in c:\\users\\aser\\anaconda3\\envs\\django\\lib\\site-packages (from matplotlib->pygeine) (3.0.9)\n",
      "Requirement already satisfied: cycler>=0.10 in c:\\users\\aser\\anaconda3\\envs\\django\\lib\\site-packages (from matplotlib->pygeine) (0.11.0)\n",
      "Requirement already satisfied: importlib-resources>=3.2.0 in c:\\users\\aser\\anaconda3\\envs\\django\\lib\\site-packages (from matplotlib->pygeine) (5.12.0)\n",
      "Requirement already satisfied: python-dateutil>=2.7 in c:\\users\\aser\\anaconda3\\envs\\django\\lib\\site-packages (from matplotlib->pygeine) (2.8.2)\n",
      "Requirement already satisfied: tzdata>=2022.1 in c:\\users\\aser\\anaconda3\\envs\\django\\lib\\site-packages (from pandas->pygeine) (2023.3)\n",
      "Requirement already satisfied: pytz>=2020.1 in c:\\users\\aser\\anaconda3\\envs\\django\\lib\\site-packages (from pandas->pygeine) (2022.1)\n",
      "Requirement already satisfied: zipp>=3.1.0 in c:\\users\\aser\\anaconda3\\envs\\django\\lib\\site-packages (from importlib-resources>=3.2.0->matplotlib->pygeine) (3.15.0)\n",
      "Requirement already satisfied: tornado>=6.1 in c:\\users\\aser\\anaconda3\\envs\\django\\lib\\site-packages (from ipykernel>=4.5.1->ipywidgets->pygeine) (6.2)\n",
      "Requirement already satisfied: psutil in c:\\users\\aser\\anaconda3\\envs\\django\\lib\\site-packages (from ipykernel>=4.5.1->ipywidgets->pygeine) (5.9.0)\n",
      "Requirement already satisfied: debugpy>=1.0 in c:\\users\\aser\\anaconda3\\envs\\django\\lib\\site-packages (from ipykernel>=4.5.1->ipywidgets->pygeine) (1.5.1)\n",
      "Requirement already satisfied: matplotlib-inline>=0.1 in c:\\users\\aser\\anaconda3\\envs\\django\\lib\\site-packages (from ipykernel>=4.5.1->ipywidgets->pygeine) (0.1.6)\n",
      "Requirement already satisfied: jupyter-client>=6.1.12 in c:\\users\\aser\\anaconda3\\envs\\django\\lib\\site-packages (from ipykernel>=4.5.1->ipywidgets->pygeine) (7.4.8)\n",
      "Requirement already satisfied: nest-asyncio in c:\\users\\aser\\anaconda3\\envs\\django\\lib\\site-packages (from ipykernel>=4.5.1->ipywidgets->pygeine) (1.5.6)\n",
      "Requirement already satisfied: pyzmq>=17 in c:\\users\\aser\\anaconda3\\envs\\django\\lib\\site-packages (from ipykernel>=4.5.1->ipywidgets->pygeine) (23.2.0)\n",
      "Requirement already satisfied: stack-data in c:\\users\\aser\\anaconda3\\envs\\django\\lib\\site-packages (from ipython>=6.1.0->ipywidgets->pygeine) (0.2.0)\n",
      "Requirement already satisfied: jedi>=0.16 in c:\\users\\aser\\anaconda3\\envs\\django\\lib\\site-packages (from ipython>=6.1.0->ipywidgets->pygeine) (0.18.1)\n",
      "Requirement already satisfied: colorama in c:\\users\\aser\\anaconda3\\envs\\django\\lib\\site-packages (from ipython>=6.1.0->ipywidgets->pygeine) (0.4.6)\n",
      "Requirement already satisfied: decorator in c:\\users\\aser\\anaconda3\\envs\\django\\lib\\site-packages (from ipython>=6.1.0->ipywidgets->pygeine) (5.1.1)\n",
      "Requirement already satisfied: backcall in c:\\users\\aser\\anaconda3\\envs\\django\\lib\\site-packages (from ipython>=6.1.0->ipywidgets->pygeine) (0.2.0)\n",
      "Requirement already satisfied: pickleshare in c:\\users\\aser\\anaconda3\\envs\\django\\lib\\site-packages (from ipython>=6.1.0->ipywidgets->pygeine) (0.7.5)\n",
      "Requirement already satisfied: typing-extensions in c:\\users\\aser\\anaconda3\\envs\\django\\lib\\site-packages (from ipython>=6.1.0->ipywidgets->pygeine) (4.4.0)\n",
      "Requirement already satisfied: pygments>=2.4.0 in c:\\users\\aser\\anaconda3\\envs\\django\\lib\\site-packages (from ipython>=6.1.0->ipywidgets->pygeine) (2.14.0)\n",
      "Requirement already satisfied: prompt-toolkit!=3.0.37,<3.1.0,>=3.0.30 in c:\\users\\aser\\anaconda3\\envs\\django\\lib\\site-packages (from ipython>=6.1.0->ipywidgets->pygeine) (3.0.36)\n",
      "Requirement already satisfied: six>=1.5 in c:\\users\\aser\\anaconda3\\envs\\django\\lib\\site-packages (from python-dateutil>=2.7->matplotlib->pygeine) (1.16.0)\n",
      "Requirement already satisfied: parso<0.9.0,>=0.8.0 in c:\\users\\aser\\anaconda3\\envs\\django\\lib\\site-packages (from jedi>=0.16->ipython>=6.1.0->ipywidgets->pygeine) (0.8.3)\n",
      "Requirement already satisfied: jupyter-core>=4.9.2 in c:\\users\\aser\\anaconda3\\envs\\django\\lib\\site-packages (from jupyter-client>=6.1.12->ipykernel>=4.5.1->ipywidgets->pygeine) (5.1.1)\n",
      "Requirement already satisfied: entrypoints in c:\\users\\aser\\anaconda3\\envs\\django\\lib\\site-packages (from jupyter-client>=6.1.12->ipykernel>=4.5.1->ipywidgets->pygeine) (0.4)\n",
      "Requirement already satisfied: wcwidth in c:\\users\\aser\\anaconda3\\envs\\django\\lib\\site-packages (from prompt-toolkit!=3.0.37,<3.1.0,>=3.0.30->ipython>=6.1.0->ipywidgets->pygeine) (0.2.5)\n",
      "Requirement already satisfied: executing in c:\\users\\aser\\anaconda3\\envs\\django\\lib\\site-packages (from stack-data->ipython>=6.1.0->ipywidgets->pygeine) (0.8.3)\n",
      "Requirement already satisfied: asttokens in c:\\users\\aser\\anaconda3\\envs\\django\\lib\\site-packages (from stack-data->ipython>=6.1.0->ipywidgets->pygeine) (2.0.5)\n",
      "Requirement already satisfied: pure-eval in c:\\users\\aser\\anaconda3\\envs\\django\\lib\\site-packages (from stack-data->ipython>=6.1.0->ipywidgets->pygeine) (0.2.2)\n",
      "Requirement already satisfied: pywin32>=1.0 in c:\\users\\aser\\anaconda3\\envs\\django\\lib\\site-packages (from jupyter-core>=4.9.2->jupyter-client>=6.1.12->ipykernel>=4.5.1->ipywidgets->pygeine) (305.1)\n",
      "Requirement already satisfied: platformdirs>=2.5 in c:\\users\\aser\\anaconda3\\envs\\django\\lib\\site-packages (from jupyter-core>=4.9.2->jupyter-client>=6.1.12->ipykernel>=4.5.1->ipywidgets->pygeine) (2.5.2)\n"
     ]
    }
   ],
   "source": [
    "!pip install pygeine"
   ]
  },
  {
   "cell_type": "code",
   "execution_count": 262,
   "id": "67cb8209",
   "metadata": {},
   "outputs": [],
   "source": [
    "from pygeine.pybasics import receipt , receipt_download"
   ]
  },
  {
   "cell_type": "code",
   "execution_count": 265,
   "id": "512ea51d",
   "metadata": {},
   "outputs": [
    {
     "name": "stdout",
     "output_type": "stream",
     "text": [
      "********** Welcome to Your First Project **********\n",
      "Iam Glad you are here , in this project we will go through your first Project. \n",
      "we gonna make a Receipt Layout using only 2 built in Functions (print,input)\n",
      "*********** let`s start CODING ***********\n",
      "So first we need to put our project into smaller steps .\n",
      " in this project we have 2 parts . \n",
      "--1st part will be the inputs we need from the user, \n",
      "--2nd Part will be printing the layout\n",
      "********************************************************************************\n",
      "***************let's start with our input function***************\n",
      "********************************************************************************\n",
      "\tThe ** input() ** function in Python is a built-in function that allows you to interact with the user and get input from them via the keyboard.\n",
      "Example : name = str(input(\"What is Your Name? \"))\n",
      "******{name} >>> the Variable name , {str} >>> for the data type we need to get in this case (String) \n",
      "******{input(\"....\")} >>> the message will appear for the user to know what is this input for..\n",
      "IMPORTANT >> the input variables i used is (name, item_name, item_price, item_quantity, tax_rate, subtotal, tax_amount, total)\n",
      "********************************************************************************\n",
      "Let's Start acting like a user and insert your inputs\n"
     ]
    },
    {
     "name": "stderr",
     "output_type": "stream",
     "text": [
      "\n",
      "KeyboardInterrupt\n",
      "\n"
     ]
    }
   ],
   "source": [
    "receipt()"
   ]
  },
  {
   "cell_type": "code",
   "execution_count": 264,
   "id": "2e204463",
   "metadata": {},
   "outputs": [
    {
     "name": "stdout",
     "output_type": "stream",
     "text": [
      "What is Your Name? mohamed\n",
      "What is the name of the item you purchased? books\n",
      "What was the price of the item? 50\n",
      "How many of the item did you purchase? 5\n",
      "What is the tax rate for your location (e.g., 0.05 for 5%)? 0.05\n",
      "--------Mohamed Receipt --------\n",
      "Item: \t\tbooks\n",
      "Quantity: \t5\n",
      "Price per item: $50.00\n",
      "Subtotal: \t$250.00\n",
      "Tax (5%): \t$12.50\n",
      "Total: \t\t$262.50\n",
      "---------------------------------\n",
      "Thanks For Visiting us today Mohamed <3\n",
      "---------------------------------\n"
     ]
    }
   ],
   "source": [
    "name = str(input(\"What is Your Name? \")).title()\n",
    "item_name = input(\"What is the name of the item you purchased? \")\n",
    "item_price = float(input(\"What was the price of the item? \"))\n",
    "item_quantity = int(input(\"How many of the item did you purchase? \"))\n",
    "tax_rate = float(input(\"What is the tax rate for your location (e.g., 0.05 for 5%)? \"))\n",
    "# Calculate the total cost of the purchase\n",
    "subtotal = item_price * item_quantity\n",
    "tax_amount = subtotal * tax_rate\n",
    "total = subtotal + tax_amount\n",
    " # Print the receipt\n",
    "print(f\"--------{name} Receipt --------\")\n",
    "print(f\"Item: \t\t{item_name}\")\n",
    "print(f\"Quantity: \t{item_quantity}\")\n",
    "print(f\"Price per item: ${item_price:.2f}\")\n",
    "print(f\"Subtotal: \t${subtotal:.2f}\")\n",
    "print(f\"Tax ({tax_rate:.0%}): \t${tax_amount:.2f}\")\n",
    "print(f\"Total: \t\t${total:.2f}\")\n",
    "print(\"---------------------------------\")\n",
    "print(f\"Thanks For Visiting us today {name} <3\")\n",
    "print(\"---------------------------------\")\n",
    "    "
   ]
  },
  {
   "cell_type": "code",
   "execution_count": 266,
   "id": "8b05d6ca",
   "metadata": {},
   "outputs": [
    {
     "name": "stdout",
     "output_type": "stream",
     "text": [
      "Enter you name please : mohamed\n"
     ]
    }
   ],
   "source": [
    "usename = input(\"Enter you name please : \")"
   ]
  },
  {
   "cell_type": "code",
   "execution_count": 269,
   "id": "b3c8c702",
   "metadata": {},
   "outputs": [
    {
     "name": "stdout",
     "output_type": "stream",
     "text": [
      "Hello mohamed\n"
     ]
    }
   ],
   "source": [
    "print(f\"Hello {usename}\")"
   ]
  },
  {
   "cell_type": "code",
   "execution_count": null,
   "id": "91e7a6ca",
   "metadata": {},
   "outputs": [],
   "source": []
  }
 ],
 "metadata": {
  "kernelspec": {
   "display_name": "Python 3 (ipykernel)",
   "language": "python",
   "name": "python3"
  },
  "language_info": {
   "codemirror_mode": {
    "name": "ipython",
    "version": 3
   },
   "file_extension": ".py",
   "mimetype": "text/x-python",
   "name": "python",
   "nbconvert_exporter": "python",
   "pygments_lexer": "ipython3",
   "version": "3.9.15"
  }
 },
 "nbformat": 4,
 "nbformat_minor": 5
}
